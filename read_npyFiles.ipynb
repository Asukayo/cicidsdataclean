{
 "cells": [
  {
   "cell_type": "code",
   "id": "initial_id",
   "metadata": {
    "collapsed": true,
    "jupyter": {
     "is_executing": true
    }
   },
   "source": [
    "import numpy as np\n",
    "import pandas as pd\n",
    "import pickle"
   ],
   "outputs": [],
   "execution_count": null
  },
  {
   "metadata": {
    "ExecuteTime": {
     "end_time": "2025-04-17T07:45:52.774361Z",
     "start_time": "2025-04-17T07:45:50.566723Z"
    }
   },
   "cell_type": "code",
   "source": [
    "# 加载数据\n",
    "X_monday = np.load(\"cicids2017/flow_windows_w10000_s1000/Monday-WorkingHours/X_windows_w10000_s1000.npy\")\n",
    "y_monday = np.load(\"cicids2017/flow_windows_w10000_s1000/Monday-WorkingHours/y_windows_w10000_s1000.npy\")\n",
    "\n",
    "# # 加载元数据（获取标签映射）\n",
    "with open(\"cicids2017/flow_windows_w10000_s1000/Monday-WorkingHours/metadata_w10000_s1000.pkl\", \"rb\") as f:\n",
    "    metadata = pickle.load(f)\n"
   ],
   "id": "f1a9e17234c57bdd",
   "outputs": [],
   "execution_count": 2
  },
  {
   "metadata": {
    "ExecuteTime": {
     "end_time": "2025-04-17T07:45:54.139324Z",
     "start_time": "2025-04-17T07:45:54.126785Z"
    }
   },
   "cell_type": "code",
   "source": "X_monday.shape",
   "id": "c5b9016b249200d",
   "outputs": [
    {
     "data": {
      "text/plain": [
       "(493, 10000, 68)"
      ]
     },
     "execution_count": 3,
     "metadata": {},
     "output_type": "execute_result"
    }
   ],
   "execution_count": 3
  },
  {
   "metadata": {
    "ExecuteTime": {
     "end_time": "2025-04-17T07:45:55.830556Z",
     "start_time": "2025-04-17T07:45:55.812984Z"
    }
   },
   "cell_type": "code",
   "source": "y_monday.shape",
   "id": "cb8b5311d8145c14",
   "outputs": [
    {
     "data": {
      "text/plain": [
       "(493, 10000)"
      ]
     },
     "execution_count": 4,
     "metadata": {},
     "output_type": "execute_result"
    }
   ],
   "execution_count": 4
  },
  {
   "metadata": {
    "ExecuteTime": {
     "end_time": "2025-04-17T07:55:49.249997Z",
     "start_time": "2025-04-17T07:55:49.237584Z"
    }
   },
   "cell_type": "code",
   "source": "y_monday[0]",
   "id": "d4dbe6a578b086b",
   "outputs": [
    {
     "data": {
      "text/plain": [
       "array([0, 0, 0, ..., 0, 0, 0])"
      ]
     },
     "execution_count": 6,
     "metadata": {},
     "output_type": "execute_result"
    }
   ],
   "execution_count": 6
  },
  {
   "metadata": {
    "ExecuteTime": {
     "end_time": "2025-04-14T05:05:02.668004Z",
     "start_time": "2025-04-14T05:05:02.647748Z"
    }
   },
   "cell_type": "code",
   "source": [
    "# 获取标签映射\n",
    "label_mapping = metadata['label_mapping']\n",
    "\n",
    "#获取所有窗口的种类\n",
    "is_malignant = metadata['is_malicious']\n",
    "\n",
    "# 将数值标签转换回原始字符串标签\n",
    "def decode_labels(encoded_labels):\n",
    "    return np.array([label_mapping[label] for label in encoded_labels])\n",
    "\n",
    "# 例如，查看第一个窗口的原始标签\n",
    "window_idx = 0\n",
    "original_labels = decode_labels(y_monday[window_idx])\n"
   ],
   "id": "833ab0d66e86176b",
   "outputs": [
    {
     "ename": "KeyError",
     "evalue": "'is_malicious'",
     "output_type": "error",
     "traceback": [
      "\u001B[1;31m---------------------------------------------------------------------------\u001B[0m",
      "\u001B[1;31mKeyError\u001B[0m                                  Traceback (most recent call last)",
      "\u001B[1;32m~\\AppData\\Local\\Temp\\ipykernel_32660\\1297876936.py\u001B[0m in \u001B[0;36m<module>\u001B[1;34m\u001B[0m\n\u001B[0;32m      3\u001B[0m \u001B[1;33m\u001B[0m\u001B[0m\n\u001B[0;32m      4\u001B[0m \u001B[1;31m#获取所有窗口的种类\u001B[0m\u001B[1;33m\u001B[0m\u001B[1;33m\u001B[0m\u001B[0m\n\u001B[1;32m----> 5\u001B[1;33m \u001B[0mis_malignant\u001B[0m \u001B[1;33m=\u001B[0m \u001B[0mmetadata\u001B[0m\u001B[1;33m[\u001B[0m\u001B[1;34m'is_malicious'\u001B[0m\u001B[1;33m]\u001B[0m\u001B[1;33m\u001B[0m\u001B[0m\n\u001B[0m\u001B[0;32m      6\u001B[0m \u001B[1;33m\u001B[0m\u001B[0m\n\u001B[0;32m      7\u001B[0m \u001B[1;31m# 将数值标签转换回原始字符串标签\u001B[0m\u001B[1;33m\u001B[0m\u001B[1;33m\u001B[0m\u001B[0m\n",
      "\u001B[1;31mKeyError\u001B[0m: 'is_malicious'"
     ]
    }
   ],
   "execution_count": 13
  },
  {
   "metadata": {
    "ExecuteTime": {
     "end_time": "2025-04-14T05:02:54.059826Z",
     "start_time": "2025-04-14T05:02:54.045308Z"
    }
   },
   "cell_type": "code",
   "source": "print(original_labels)",
   "id": "21c524476360e92e",
   "outputs": [
    {
     "name": "stdout",
     "output_type": "stream",
     "text": [
      "['Benign' 'Benign' 'Benign' ... 'Benign' 'Benign' 'Benign']\n"
     ]
    }
   ],
   "execution_count": 11
  },
  {
   "metadata": {},
   "cell_type": "code",
   "outputs": [],
   "execution_count": null,
   "source": "",
   "id": "e7df03e2a95ef93c"
  }
 ],
 "metadata": {
  "kernelspec": {
   "display_name": "Python 3",
   "language": "python",
   "name": "python3"
  },
  "language_info": {
   "codemirror_mode": {
    "name": "ipython",
    "version": 2
   },
   "file_extension": ".py",
   "mimetype": "text/x-python",
   "name": "python",
   "nbconvert_exporter": "python",
   "pygments_lexer": "ipython2",
   "version": "2.7.6"
  }
 },
 "nbformat": 4,
 "nbformat_minor": 5
}
