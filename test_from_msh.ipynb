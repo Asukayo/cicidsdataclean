{
 "cells": [
  {
   "cell_type": "code",
   "id": "initial_id",
   "metadata": {
    "collapsed": true,
    "ExecuteTime": {
     "end_time": "2025-03-27T06:57:12.931926Z",
     "start_time": "2025-03-27T06:57:08.411013Z"
    }
   },
   "source": [
    "import pandas as pd\n",
    "import numpy as np\n",
    "from sklearn.model_selection import train_test_split"
   ],
   "outputs": [],
   "execution_count": 1
  },
  {
   "metadata": {
    "ExecuteTime": {
     "end_time": "2025-03-27T06:59:16.112993Z",
     "start_time": "2025-03-27T06:59:15.429532Z"
    }
   },
   "cell_type": "code",
   "source": [
    "df_benign = pd.read_feather(f\"./cicids2017/clean/all_benign.feather\")\n",
    "df_malicious = pd.read_feather(f\"./cicids2017/clean/all_malicious.feather\")"
   ],
   "id": "8cb9a4b2142d666d",
   "outputs": [],
   "execution_count": 3
  },
  {
   "metadata": {
    "ExecuteTime": {
     "end_time": "2025-03-27T07:00:00.633871Z",
     "start_time": "2025-03-27T07:00:00.417357Z"
    }
   },
   "cell_type": "code",
   "source": [
    "# Split benign data in train, validation, test split\n",
    "# 对正常流量标签设为 1（这里用 1 代表正常流量），构造标签数组 y_benign,y_benign长度就是所有benign时间点的数量\n",
    "y_benign = np.ones(df_benign.shape[0])\n",
    "# 从正常数据中删除不用于建模的字段（Label、Timestamp、Destination Port），保留其他数值特征作为输入特征 x_benign。\n",
    "x_benign = df_benign.drop(columns=['Label', 'Timestamp', 'Destination Port'])"
   ],
   "id": "55674ae78a441d69",
   "outputs": [],
   "execution_count": 5
  },
  {
   "metadata": {
    "ExecuteTime": {
     "end_time": "2025-03-27T07:00:17.744794Z",
     "start_time": "2025-03-27T07:00:17.729930Z"
    }
   },
   "cell_type": "code",
   "source": "y_benign.shape",
   "id": "ace4a20b0ae4aaca",
   "outputs": [
    {
     "data": {
      "text/plain": [
       "(2071822,)"
      ]
     },
     "execution_count": 6,
     "metadata": {},
     "output_type": "execute_result"
    }
   ],
   "execution_count": 6
  },
  {
   "metadata": {
    "ExecuteTime": {
     "end_time": "2025-03-27T07:00:57.706787Z",
     "start_time": "2025-03-27T07:00:56.262603Z"
    }
   },
   "cell_type": "code",
   "source": [
    "# 使用 train_test_split 将正常流量数据划分出训练集和后续的验证+测试集合：\n",
    "# train_size 为 100000，随机种子设为 42 保证结果可重复，并打乱数据顺序。\n",
    "x_benign_train, x_benign_valtest, y_benign_train, y_benign_valtest = train_test_split(\n",
    "        x_benign, y_benign, train_size=100000, random_state=42, shuffle=True)"
   ],
   "id": "22d1d65424885bcc",
   "outputs": [],
   "execution_count": 7
  },
  {
   "metadata": {
    "ExecuteTime": {
     "end_time": "2025-03-27T07:01:11.885142Z",
     "start_time": "2025-03-27T07:01:11.877068Z"
    }
   },
   "cell_type": "code",
   "source": "x_benign_train.shape",
   "id": "1d4747699f7538f6",
   "outputs": [
    {
     "data": {
      "text/plain": [
       "(100000, 67)"
      ]
     },
     "execution_count": 8,
     "metadata": {},
     "output_type": "execute_result"
    }
   ],
   "execution_count": 8
  },
  {
   "metadata": {
    "ExecuteTime": {
     "end_time": "2025-03-27T07:01:54.003381Z",
     "start_time": "2025-03-27T07:01:53.997722Z"
    }
   },
   "cell_type": "code",
   "source": "x_benign_valtest.shape",
   "id": "ffe5feb46f0128cf",
   "outputs": [
    {
     "data": {
      "text/plain": [
       "(1971822, 67)"
      ]
     },
     "execution_count": 10,
     "metadata": {},
     "output_type": "execute_result"
    }
   ],
   "execution_count": 10
  },
  {
   "metadata": {},
   "cell_type": "code",
   "outputs": [],
   "execution_count": null,
   "source": [
    "# 将上一步得到的验证+测试集合再划分为验证集和测试集：\n",
    "# 验证集大小为 val_size（100000），测试集大小为 test_size（30000）。\n",
    "x_benign_val, x_benign_test, y_benign_val, y_benign_test = train_test_split(\n",
    "        x_benign_valtest, y_benign_valtest, train_size=100000, test_size=30000, random_state=42, shuffle=True)"
   ],
   "id": "3c76bbe1c50ddef0"
  }
 ],
 "metadata": {
  "kernelspec": {
   "display_name": "Python 3",
   "language": "python",
   "name": "python3"
  },
  "language_info": {
   "codemirror_mode": {
    "name": "ipython",
    "version": 2
   },
   "file_extension": ".py",
   "mimetype": "text/x-python",
   "name": "python",
   "nbconvert_exporter": "python",
   "pygments_lexer": "ipython2",
   "version": "2.7.6"
  }
 },
 "nbformat": 4,
 "nbformat_minor": 5
}
