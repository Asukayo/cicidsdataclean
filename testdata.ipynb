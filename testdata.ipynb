{
 "cells": [
  {
   "cell_type": "code",
   "id": "initial_id",
   "metadata": {
    "collapsed": true,
    "ExecuteTime": {
     "end_time": "2025-04-01T06:07:07.879929Z",
     "start_time": "2025-04-01T06:07:07.845931Z"
    }
   },
   "source": [
    "import pandas as pd\n",
    "import torch\n",
    "import numpy as np\n",
    "\n",
    "# 读取 feather 文件（请将路径替换为你的实际路径）\n",
    "file_path = 'cicids2017/time_series/Monday-WorkingHours/flat_dataset_w10_s1.csv'\n",
    "df = pd.read_csv(file_path)\n"
   ],
   "outputs": [],
   "execution_count": 4
  },
  {
   "metadata": {},
   "cell_type": "markdown",
   "source": "",
   "id": "db3a6ed971bfc40f"
  },
  {
   "metadata": {
    "ExecuteTime": {
     "end_time": "2025-04-01T06:07:09.556261Z",
     "start_time": "2025-04-01T06:07:09.543264Z"
    }
   },
   "cell_type": "code",
   "source": [
    "# 查看所有列的名称\n",
    "print(\"列名（Column Names）:\")\n",
    "print(df.columns.tolist())"
   ],
   "id": "603fda1f6292ea19",
   "outputs": [
    {
     "name": "stdout",
     "output_type": "stream",
     "text": [
      "列名（Column Names）:\n",
      "['start_time', 'end_time', 'flow_count', 'unique_timestamps', 'time_density', 'is_malicious', 'Destination Port_mean', 'Protocol_mean', 'Flow Duration_mean', 'Total Fwd Packets_mean', 'Total Backward Packets_mean', 'Fwd Packets Length Total_mean', 'Bwd Packets Length Total_mean', 'Fwd Packet Length Max_mean', 'Fwd Packet Length Min_mean', 'Fwd Packet Length Mean_mean', 'Fwd Packet Length Std_mean', 'Bwd Packet Length Max_mean', 'Bwd Packet Length Min_mean', 'Bwd Packet Length Mean_mean', 'Bwd Packet Length Std_mean', 'Flow Bytes/s_mean', 'Flow Packets/s_mean', 'Flow IAT Mean_mean', 'Flow IAT Std_mean', 'Flow IAT Max_mean', 'Flow IAT Min_mean', 'Fwd IAT Total_mean', 'Fwd IAT Mean_mean', 'Fwd IAT Std_mean', 'Fwd IAT Max_mean', 'Fwd IAT Min_mean', 'Bwd IAT Total_mean', 'Bwd IAT Mean_mean', 'Bwd IAT Std_mean', 'Bwd IAT Max_mean', 'Bwd IAT Min_mean', 'Fwd PSH Flags_mean', 'Fwd Header Length_mean', 'Bwd Header Length_mean', 'Fwd Packets/s_mean', 'Bwd Packets/s_mean', 'Packet Length Min_mean', 'Packet Length Max_mean', 'Packet Length Mean_mean', 'Packet Length Std_mean', 'Packet Length Variance_mean', 'FIN Flag Count_mean', 'SYN Flag Count_mean', 'RST Flag Count_mean', 'PSH Flag Count_mean', 'ACK Flag Count_mean', 'URG Flag Count_mean', 'ECE Flag Count_mean', 'Down/Up Ratio_mean', 'Avg Packet Size_mean', 'Avg Fwd Segment Size_mean', 'Avg Bwd Segment Size_mean', 'Subflow Fwd Packets_mean', 'Subflow Fwd Bytes_mean', 'Subflow Bwd Packets_mean', 'Subflow Bwd Bytes_mean', 'Init Fwd Win Bytes_mean', 'Init Bwd Win Bytes_mean', 'Fwd Act Data Packets_mean', 'Fwd Seg Size Min_mean', 'Active Mean_mean', 'Active Std_mean', 'Active Max_mean', 'Active Min_mean', 'Idle Mean_mean', 'Idle Std_mean', 'Idle Max_mean', 'Idle Min_mean', 'Destination Port_std', 'Protocol_std', 'Flow Duration_std', 'Total Fwd Packets_std', 'Total Backward Packets_std', 'Fwd Packets Length Total_std', 'Bwd Packets Length Total_std', 'Fwd Packet Length Max_std', 'Fwd Packet Length Min_std', 'Fwd Packet Length Mean_std', 'Fwd Packet Length Std_std', 'Bwd Packet Length Max_std', 'Bwd Packet Length Min_std', 'Bwd Packet Length Mean_std', 'Bwd Packet Length Std_std', 'Flow Bytes/s_std', 'Flow Packets/s_std', 'Flow IAT Mean_std', 'Flow IAT Std_std', 'Flow IAT Max_std', 'Flow IAT Min_std', 'Fwd IAT Total_std', 'Fwd IAT Mean_std', 'Fwd IAT Std_std', 'Fwd IAT Max_std', 'Fwd IAT Min_std', 'Bwd IAT Total_std', 'Bwd IAT Mean_std', 'Bwd IAT Std_std', 'Bwd IAT Max_std', 'Bwd IAT Min_std', 'Fwd PSH Flags_std', 'Fwd Header Length_std', 'Bwd Header Length_std', 'Fwd Packets/s_std', 'Bwd Packets/s_std', 'Packet Length Min_std', 'Packet Length Max_std', 'Packet Length Mean_std', 'Packet Length Std_std', 'Packet Length Variance_std', 'FIN Flag Count_std', 'SYN Flag Count_std', 'RST Flag Count_std', 'PSH Flag Count_std', 'ACK Flag Count_std', 'URG Flag Count_std', 'ECE Flag Count_std', 'Down/Up Ratio_std', 'Avg Packet Size_std', 'Avg Fwd Segment Size_std', 'Avg Bwd Segment Size_std', 'Subflow Fwd Packets_std', 'Subflow Fwd Bytes_std', 'Subflow Bwd Packets_std', 'Subflow Bwd Bytes_std', 'Init Fwd Win Bytes_std', 'Init Bwd Win Bytes_std', 'Fwd Act Data Packets_std', 'Fwd Seg Size Min_std', 'Active Mean_std', 'Active Std_std', 'Active Max_std', 'Active Min_std', 'Idle Mean_std', 'Idle Std_std', 'Idle Max_std', 'Idle Min_std', 'Destination Port_min', 'Protocol_min', 'Flow Duration_min', 'Total Fwd Packets_min', 'Total Backward Packets_min', 'Fwd Packets Length Total_min', 'Bwd Packets Length Total_min', 'Fwd Packet Length Max_min', 'Fwd Packet Length Min_min', 'Fwd Packet Length Mean_min', 'Fwd Packet Length Std_min', 'Bwd Packet Length Max_min', 'Bwd Packet Length Min_min', 'Bwd Packet Length Mean_min', 'Bwd Packet Length Std_min', 'Flow Bytes/s_min', 'Flow Packets/s_min', 'Flow IAT Mean_min', 'Flow IAT Std_min', 'Flow IAT Max_min', 'Flow IAT Min_min', 'Fwd IAT Total_min', 'Fwd IAT Mean_min', 'Fwd IAT Std_min', 'Fwd IAT Max_min', 'Fwd IAT Min_min', 'Bwd IAT Total_min', 'Bwd IAT Mean_min', 'Bwd IAT Std_min', 'Bwd IAT Max_min', 'Bwd IAT Min_min', 'Fwd PSH Flags_min', 'Fwd Header Length_min', 'Bwd Header Length_min', 'Fwd Packets/s_min', 'Bwd Packets/s_min', 'Packet Length Min_min', 'Packet Length Max_min', 'Packet Length Mean_min', 'Packet Length Std_min', 'Packet Length Variance_min', 'FIN Flag Count_min', 'SYN Flag Count_min', 'RST Flag Count_min', 'PSH Flag Count_min', 'ACK Flag Count_min', 'URG Flag Count_min', 'ECE Flag Count_min', 'Down/Up Ratio_min', 'Avg Packet Size_min', 'Avg Fwd Segment Size_min', 'Avg Bwd Segment Size_min', 'Subflow Fwd Packets_min', 'Subflow Fwd Bytes_min', 'Subflow Bwd Packets_min', 'Subflow Bwd Bytes_min', 'Init Fwd Win Bytes_min', 'Init Bwd Win Bytes_min', 'Fwd Act Data Packets_min', 'Fwd Seg Size Min_min', 'Active Mean_min', 'Active Std_min', 'Active Max_min', 'Active Min_min', 'Idle Mean_min', 'Idle Std_min', 'Idle Max_min', 'Idle Min_min', 'Destination Port_max', 'Protocol_max', 'Flow Duration_max', 'Total Fwd Packets_max', 'Total Backward Packets_max', 'Fwd Packets Length Total_max', 'Bwd Packets Length Total_max', 'Fwd Packet Length Max_max', 'Fwd Packet Length Min_max', 'Fwd Packet Length Mean_max', 'Fwd Packet Length Std_max', 'Bwd Packet Length Max_max', 'Bwd Packet Length Min_max', 'Bwd Packet Length Mean_max', 'Bwd Packet Length Std_max', 'Flow Bytes/s_max', 'Flow Packets/s_max', 'Flow IAT Mean_max', 'Flow IAT Std_max', 'Flow IAT Max_max', 'Flow IAT Min_max', 'Fwd IAT Total_max', 'Fwd IAT Mean_max', 'Fwd IAT Std_max', 'Fwd IAT Max_max', 'Fwd IAT Min_max', 'Bwd IAT Total_max', 'Bwd IAT Mean_max', 'Bwd IAT Std_max', 'Bwd IAT Max_max', 'Bwd IAT Min_max', 'Fwd PSH Flags_max', 'Fwd Header Length_max', 'Bwd Header Length_max', 'Fwd Packets/s_max', 'Bwd Packets/s_max', 'Packet Length Min_max', 'Packet Length Max_max', 'Packet Length Mean_max', 'Packet Length Std_max', 'Packet Length Variance_max', 'FIN Flag Count_max', 'SYN Flag Count_max', 'RST Flag Count_max', 'PSH Flag Count_max', 'ACK Flag Count_max', 'URG Flag Count_max', 'ECE Flag Count_max', 'Down/Up Ratio_max', 'Avg Packet Size_max', 'Avg Fwd Segment Size_max', 'Avg Bwd Segment Size_max', 'Subflow Fwd Packets_max', 'Subflow Fwd Bytes_max', 'Subflow Bwd Packets_max', 'Subflow Bwd Bytes_max', 'Init Fwd Win Bytes_max', 'Init Bwd Win Bytes_max', 'Fwd Act Data Packets_max', 'Fwd Seg Size Min_max', 'Active Mean_max', 'Active Std_max', 'Active Max_max', 'Active Min_max', 'Idle Mean_max', 'Idle Std_max', 'Idle Max_max', 'Idle Min_max', 'Destination Port_q25', 'Protocol_q25', 'Flow Duration_q25', 'Total Fwd Packets_q25', 'Total Backward Packets_q25', 'Fwd Packets Length Total_q25', 'Bwd Packets Length Total_q25', 'Fwd Packet Length Max_q25', 'Fwd Packet Length Min_q25', 'Fwd Packet Length Mean_q25', 'Fwd Packet Length Std_q25', 'Bwd Packet Length Max_q25', 'Bwd Packet Length Min_q25', 'Bwd Packet Length Mean_q25', 'Bwd Packet Length Std_q25', 'Flow Bytes/s_q25', 'Flow Packets/s_q25', 'Flow IAT Mean_q25', 'Flow IAT Std_q25', 'Flow IAT Max_q25', 'Flow IAT Min_q25', 'Fwd IAT Total_q25', 'Fwd IAT Mean_q25', 'Fwd IAT Std_q25', 'Fwd IAT Max_q25', 'Fwd IAT Min_q25', 'Bwd IAT Total_q25', 'Bwd IAT Mean_q25', 'Bwd IAT Std_q25', 'Bwd IAT Max_q25', 'Bwd IAT Min_q25', 'Fwd PSH Flags_q25', 'Fwd Header Length_q25', 'Bwd Header Length_q25', 'Fwd Packets/s_q25', 'Bwd Packets/s_q25', 'Packet Length Min_q25', 'Packet Length Max_q25', 'Packet Length Mean_q25', 'Packet Length Std_q25', 'Packet Length Variance_q25', 'FIN Flag Count_q25', 'SYN Flag Count_q25', 'RST Flag Count_q25', 'PSH Flag Count_q25', 'ACK Flag Count_q25', 'URG Flag Count_q25', 'ECE Flag Count_q25', 'Down/Up Ratio_q25', 'Avg Packet Size_q25', 'Avg Fwd Segment Size_q25', 'Avg Bwd Segment Size_q25', 'Subflow Fwd Packets_q25', 'Subflow Fwd Bytes_q25', 'Subflow Bwd Packets_q25', 'Subflow Bwd Bytes_q25', 'Init Fwd Win Bytes_q25', 'Init Bwd Win Bytes_q25', 'Fwd Act Data Packets_q25', 'Fwd Seg Size Min_q25', 'Active Mean_q25', 'Active Std_q25', 'Active Max_q25', 'Active Min_q25', 'Idle Mean_q25', 'Idle Std_q25', 'Idle Max_q25', 'Idle Min_q25', 'Destination Port_median', 'Protocol_median', 'Flow Duration_median', 'Total Fwd Packets_median', 'Total Backward Packets_median', 'Fwd Packets Length Total_median', 'Bwd Packets Length Total_median', 'Fwd Packet Length Max_median', 'Fwd Packet Length Min_median', 'Fwd Packet Length Mean_median', 'Fwd Packet Length Std_median', 'Bwd Packet Length Max_median', 'Bwd Packet Length Min_median', 'Bwd Packet Length Mean_median', 'Bwd Packet Length Std_median', 'Flow Bytes/s_median', 'Flow Packets/s_median', 'Flow IAT Mean_median', 'Flow IAT Std_median', 'Flow IAT Max_median', 'Flow IAT Min_median', 'Fwd IAT Total_median', 'Fwd IAT Mean_median', 'Fwd IAT Std_median', 'Fwd IAT Max_median', 'Fwd IAT Min_median', 'Bwd IAT Total_median', 'Bwd IAT Mean_median', 'Bwd IAT Std_median', 'Bwd IAT Max_median', 'Bwd IAT Min_median', 'Fwd PSH Flags_median', 'Fwd Header Length_median', 'Bwd Header Length_median', 'Fwd Packets/s_median', 'Bwd Packets/s_median', 'Packet Length Min_median', 'Packet Length Max_median', 'Packet Length Mean_median', 'Packet Length Std_median', 'Packet Length Variance_median', 'FIN Flag Count_median', 'SYN Flag Count_median', 'RST Flag Count_median', 'PSH Flag Count_median', 'ACK Flag Count_median', 'URG Flag Count_median', 'ECE Flag Count_median', 'Down/Up Ratio_median', 'Avg Packet Size_median', 'Avg Fwd Segment Size_median', 'Avg Bwd Segment Size_median', 'Subflow Fwd Packets_median', 'Subflow Fwd Bytes_median', 'Subflow Bwd Packets_median', 'Subflow Bwd Bytes_median', 'Init Fwd Win Bytes_median', 'Init Bwd Win Bytes_median', 'Fwd Act Data Packets_median', 'Fwd Seg Size Min_median', 'Active Mean_median', 'Active Std_median', 'Active Max_median', 'Active Min_median', 'Idle Mean_median', 'Idle Std_median', 'Idle Max_median', 'Idle Min_median', 'Destination Port_q75', 'Protocol_q75', 'Flow Duration_q75', 'Total Fwd Packets_q75', 'Total Backward Packets_q75', 'Fwd Packets Length Total_q75', 'Bwd Packets Length Total_q75', 'Fwd Packet Length Max_q75', 'Fwd Packet Length Min_q75', 'Fwd Packet Length Mean_q75', 'Fwd Packet Length Std_q75', 'Bwd Packet Length Max_q75', 'Bwd Packet Length Min_q75', 'Bwd Packet Length Mean_q75', 'Bwd Packet Length Std_q75', 'Flow Bytes/s_q75', 'Flow Packets/s_q75', 'Flow IAT Mean_q75', 'Flow IAT Std_q75', 'Flow IAT Max_q75', 'Flow IAT Min_q75', 'Fwd IAT Total_q75', 'Fwd IAT Mean_q75', 'Fwd IAT Std_q75', 'Fwd IAT Max_q75', 'Fwd IAT Min_q75', 'Bwd IAT Total_q75', 'Bwd IAT Mean_q75', 'Bwd IAT Std_q75', 'Bwd IAT Max_q75', 'Bwd IAT Min_q75', 'Fwd PSH Flags_q75', 'Fwd Header Length_q75', 'Bwd Header Length_q75', 'Fwd Packets/s_q75', 'Bwd Packets/s_q75', 'Packet Length Min_q75', 'Packet Length Max_q75', 'Packet Length Mean_q75', 'Packet Length Std_q75', 'Packet Length Variance_q75', 'FIN Flag Count_q75', 'SYN Flag Count_q75', 'RST Flag Count_q75', 'PSH Flag Count_q75', 'ACK Flag Count_q75', 'URG Flag Count_q75', 'ECE Flag Count_q75', 'Down/Up Ratio_q75', 'Avg Packet Size_q75', 'Avg Fwd Segment Size_q75', 'Avg Bwd Segment Size_q75', 'Subflow Fwd Packets_q75', 'Subflow Fwd Bytes_q75', 'Subflow Bwd Packets_q75', 'Subflow Bwd Bytes_q75', 'Init Fwd Win Bytes_q75', 'Init Bwd Win Bytes_q75', 'Fwd Act Data Packets_q75', 'Fwd Seg Size Min_q75', 'Active Mean_q75', 'Active Std_q75', 'Active Max_q75', 'Active Min_q75', 'Idle Mean_q75', 'Idle Std_q75', 'Idle Max_q75', 'Idle Min_q75']\n"
     ]
    }
   ],
   "execution_count": 5
  },
  {
   "metadata": {},
   "cell_type": "markdown",
   "source": "",
   "id": "a06e39a0dd7232b4"
  },
  {
   "metadata": {
    "ExecuteTime": {
     "end_time": "2025-04-01T06:07:47.430671Z",
     "start_time": "2025-04-01T06:07:47.412673Z"
    }
   },
   "cell_type": "code",
   "source": [
    "# 查看数据的基本信息，包括列名、数据类型、缺失值等\n",
    "print(\"\\n数据集信息（Dataset Info）:\")\n",
    "print(df.info())"
   ],
   "id": "7c2fa94ada2147c",
   "outputs": [
    {
     "name": "stdout",
     "output_type": "stream",
     "text": [
      "\n",
      "数据集信息（Dataset Info）:\n",
      "<class 'pandas.core.frame.DataFrame'>\n",
      "RangeIndex: 476 entries, 0 to 475\n",
      "Columns: 482 entries, start_time to Idle Min_q75\n",
      "dtypes: float64(477), int64(3), object(2)\n",
      "memory usage: 1.8+ MB\n",
      "None\n"
     ]
    }
   ],
   "execution_count": 6
  },
  {
   "metadata": {
    "ExecuteTime": {
     "end_time": "2025-04-01T06:07:57.788386Z",
     "start_time": "2025-04-01T06:07:57.774387Z"
    }
   },
   "cell_type": "code",
   "source": [
    "# 预览前 5 行数据\n",
    "print(\"\\n数据预览（Preview of Data）:\")\n",
    "print(df.head())"
   ],
   "id": "5e26860d6c91696",
   "outputs": [
    {
     "name": "stdout",
     "output_type": "stream",
     "text": [
      "\n",
      "数据预览（Preview of Data）:\n",
      "            start_time             end_time  flow_count  unique_timestamps  \\\n",
      "0  2017-03-07 08:55:58  2017-03-07 09:05:58        2357                339   \n",
      "1  2017-03-07 08:56:58  2017-03-07 09:06:58        4459                383   \n",
      "2  2017-03-07 08:57:58  2017-03-07 09:07:58        4896                395   \n",
      "3  2017-03-07 08:58:58  2017-03-07 09:08:58        5106                426   \n",
      "4  2017-03-07 08:59:58  2017-03-07 09:09:58        5773                459   \n",
      "\n",
      "   time_density  is_malicious  Destination Port_mean  Protocol_mean  \\\n",
      "0          33.9             0            2340.204073      14.047518   \n",
      "1          38.3             0            2360.491366      13.900202   \n",
      "2          39.5             0            3620.328023      13.417688   \n",
      "3          42.6             0            4682.681159      13.053467   \n",
      "4          45.9             0            4739.619609      13.117790   \n",
      "\n",
      "   Flow Duration_mean  Total Fwd Packets_mean  ...  Fwd Act Data Packets_q75  \\\n",
      "0        1.345722e+07                9.394569  ...                       1.0   \n",
      "1        1.240626e+07                7.989235  ...                       1.0   \n",
      "2        1.292643e+07                7.347222  ...                       1.0   \n",
      "3        1.271307e+07                7.177242  ...                       1.0   \n",
      "4        1.324124e+07                6.970033  ...                       1.0   \n",
      "\n",
      "   Fwd Seg Size Min_q75  Active Mean_q75  Active Std_q75  Active Max_q75  \\\n",
      "0                  32.0              0.0             0.0             0.0   \n",
      "1                  32.0              0.0             0.0             0.0   \n",
      "2                  32.0              0.0             0.0             0.0   \n",
      "3                  32.0              0.0             0.0             0.0   \n",
      "4                  32.0              0.0             0.0             0.0   \n",
      "\n",
      "   Active Min_q75  Idle Mean_q75  Idle Std_q75  Idle Max_q75  Idle Min_q75  \n",
      "0             0.0            0.0           0.0           0.0           0.0  \n",
      "1             0.0            0.0           0.0           0.0           0.0  \n",
      "2             0.0            0.0           0.0           0.0           0.0  \n",
      "3             0.0            0.0           0.0           0.0           0.0  \n",
      "4             0.0            0.0           0.0           0.0           0.0  \n",
      "\n",
      "[5 rows x 482 columns]\n"
     ]
    }
   ],
   "execution_count": 7
  },
  {
   "metadata": {
    "ExecuteTime": {
     "end_time": "2025-04-01T06:08:04.070879Z",
     "start_time": "2025-04-01T06:08:03.998773Z"
    }
   },
   "cell_type": "code",
   "source": [
    "# 提取 Timestamp 列\n",
    "timestamps = df['Timestamp'].tail(2000)\n",
    "\n",
    "# 打印所有 Timestamp 数据\n",
    "print(\"所有 Timestamp 数据：\")\n",
    "print(timestamps.to_string(index=False))"
   ],
   "id": "ac85c9524ca45ae1",
   "outputs": [
    {
     "ename": "KeyError",
     "evalue": "'Timestamp'",
     "output_type": "error",
     "traceback": [
      "\u001B[1;31m---------------------------------------------------------------------------\u001B[0m",
      "\u001B[1;31mKeyError\u001B[0m                                  Traceback (most recent call last)",
      "\u001B[1;32mD:\\SoftWare\\anaconda3\\envs\\2017clean\\lib\\site-packages\\pandas\\core\\indexes\\base.py\u001B[0m in \u001B[0;36mget_loc\u001B[1;34m(self, key, method, tolerance)\u001B[0m\n\u001B[0;32m   3360\u001B[0m             \u001B[1;32mtry\u001B[0m\u001B[1;33m:\u001B[0m\u001B[1;33m\u001B[0m\u001B[0m\n\u001B[1;32m-> 3361\u001B[1;33m                 \u001B[1;32mreturn\u001B[0m \u001B[0mself\u001B[0m\u001B[1;33m.\u001B[0m\u001B[0m_engine\u001B[0m\u001B[1;33m.\u001B[0m\u001B[0mget_loc\u001B[0m\u001B[1;33m(\u001B[0m\u001B[0mcasted_key\u001B[0m\u001B[1;33m)\u001B[0m\u001B[1;33m\u001B[0m\u001B[0m\n\u001B[0m\u001B[0;32m   3362\u001B[0m             \u001B[1;32mexcept\u001B[0m \u001B[0mKeyError\u001B[0m \u001B[1;32mas\u001B[0m \u001B[0merr\u001B[0m\u001B[1;33m:\u001B[0m\u001B[1;33m\u001B[0m\u001B[0m\n",
      "\u001B[1;32mD:\\SoftWare\\anaconda3\\envs\\2017clean\\lib\\site-packages\\pandas\\_libs\\index.pyx\u001B[0m in \u001B[0;36mpandas._libs.index.IndexEngine.get_loc\u001B[1;34m()\u001B[0m\n",
      "\u001B[1;32mD:\\SoftWare\\anaconda3\\envs\\2017clean\\lib\\site-packages\\pandas\\_libs\\index.pyx\u001B[0m in \u001B[0;36mpandas._libs.index.IndexEngine.get_loc\u001B[1;34m()\u001B[0m\n",
      "\u001B[1;32mpandas\\_libs\\hashtable_class_helper.pxi\u001B[0m in \u001B[0;36mpandas._libs.hashtable.PyObjectHashTable.get_item\u001B[1;34m()\u001B[0m\n",
      "\u001B[1;32mpandas\\_libs\\hashtable_class_helper.pxi\u001B[0m in \u001B[0;36mpandas._libs.hashtable.PyObjectHashTable.get_item\u001B[1;34m()\u001B[0m\n",
      "\u001B[1;31mKeyError\u001B[0m: 'Timestamp'",
      "\nThe above exception was the direct cause of the following exception:\n",
      "\u001B[1;31mKeyError\u001B[0m                                  Traceback (most recent call last)",
      "\u001B[1;32m~\\AppData\\Local\\Temp\\ipykernel_85056\\2663612100.py\u001B[0m in \u001B[0;36m<module>\u001B[1;34m\u001B[0m\n\u001B[0;32m      1\u001B[0m \u001B[1;31m# 提取 Timestamp 列\u001B[0m\u001B[1;33m\u001B[0m\u001B[1;33m\u001B[0m\u001B[0m\n\u001B[1;32m----> 2\u001B[1;33m \u001B[0mtimestamps\u001B[0m \u001B[1;33m=\u001B[0m \u001B[0mdf\u001B[0m\u001B[1;33m[\u001B[0m\u001B[1;34m'Timestamp'\u001B[0m\u001B[1;33m]\u001B[0m\u001B[1;33m.\u001B[0m\u001B[0mtail\u001B[0m\u001B[1;33m(\u001B[0m\u001B[1;36m2000\u001B[0m\u001B[1;33m)\u001B[0m\u001B[1;33m\u001B[0m\u001B[0m\n\u001B[0m\u001B[0;32m      3\u001B[0m \u001B[1;33m\u001B[0m\u001B[0m\n\u001B[0;32m      4\u001B[0m \u001B[1;31m# 打印所有 Timestamp 数据\u001B[0m\u001B[1;33m\u001B[0m\u001B[1;33m\u001B[0m\u001B[0m\n\u001B[0;32m      5\u001B[0m \u001B[0mprint\u001B[0m\u001B[1;33m(\u001B[0m\u001B[1;34m\"所有 Timestamp 数据：\"\u001B[0m\u001B[1;33m)\u001B[0m\u001B[1;33m\u001B[0m\u001B[0m\n",
      "\u001B[1;32mD:\\SoftWare\\anaconda3\\envs\\2017clean\\lib\\site-packages\\pandas\\core\\frame.py\u001B[0m in \u001B[0;36m__getitem__\u001B[1;34m(self, key)\u001B[0m\n\u001B[0;32m   3456\u001B[0m             \u001B[1;32mif\u001B[0m \u001B[0mself\u001B[0m\u001B[1;33m.\u001B[0m\u001B[0mcolumns\u001B[0m\u001B[1;33m.\u001B[0m\u001B[0mnlevels\u001B[0m \u001B[1;33m>\u001B[0m \u001B[1;36m1\u001B[0m\u001B[1;33m:\u001B[0m\u001B[1;33m\u001B[0m\u001B[0m\n\u001B[0;32m   3457\u001B[0m                 \u001B[1;32mreturn\u001B[0m \u001B[0mself\u001B[0m\u001B[1;33m.\u001B[0m\u001B[0m_getitem_multilevel\u001B[0m\u001B[1;33m(\u001B[0m\u001B[0mkey\u001B[0m\u001B[1;33m)\u001B[0m\u001B[1;33m\u001B[0m\u001B[0m\n\u001B[1;32m-> 3458\u001B[1;33m             \u001B[0mindexer\u001B[0m \u001B[1;33m=\u001B[0m \u001B[0mself\u001B[0m\u001B[1;33m.\u001B[0m\u001B[0mcolumns\u001B[0m\u001B[1;33m.\u001B[0m\u001B[0mget_loc\u001B[0m\u001B[1;33m(\u001B[0m\u001B[0mkey\u001B[0m\u001B[1;33m)\u001B[0m\u001B[1;33m\u001B[0m\u001B[0m\n\u001B[0m\u001B[0;32m   3459\u001B[0m             \u001B[1;32mif\u001B[0m \u001B[0mis_integer\u001B[0m\u001B[1;33m(\u001B[0m\u001B[0mindexer\u001B[0m\u001B[1;33m)\u001B[0m\u001B[1;33m:\u001B[0m\u001B[1;33m\u001B[0m\u001B[0m\n\u001B[0;32m   3460\u001B[0m                 \u001B[0mindexer\u001B[0m \u001B[1;33m=\u001B[0m \u001B[1;33m[\u001B[0m\u001B[0mindexer\u001B[0m\u001B[1;33m]\u001B[0m\u001B[1;33m\u001B[0m\u001B[0m\n",
      "\u001B[1;32mD:\\SoftWare\\anaconda3\\envs\\2017clean\\lib\\site-packages\\pandas\\core\\indexes\\base.py\u001B[0m in \u001B[0;36mget_loc\u001B[1;34m(self, key, method, tolerance)\u001B[0m\n\u001B[0;32m   3361\u001B[0m                 \u001B[1;32mreturn\u001B[0m \u001B[0mself\u001B[0m\u001B[1;33m.\u001B[0m\u001B[0m_engine\u001B[0m\u001B[1;33m.\u001B[0m\u001B[0mget_loc\u001B[0m\u001B[1;33m(\u001B[0m\u001B[0mcasted_key\u001B[0m\u001B[1;33m)\u001B[0m\u001B[1;33m\u001B[0m\u001B[0m\n\u001B[0;32m   3362\u001B[0m             \u001B[1;32mexcept\u001B[0m \u001B[0mKeyError\u001B[0m \u001B[1;32mas\u001B[0m \u001B[0merr\u001B[0m\u001B[1;33m:\u001B[0m\u001B[1;33m\u001B[0m\u001B[0m\n\u001B[1;32m-> 3363\u001B[1;33m                 \u001B[1;32mraise\u001B[0m \u001B[0mKeyError\u001B[0m\u001B[1;33m(\u001B[0m\u001B[0mkey\u001B[0m\u001B[1;33m)\u001B[0m \u001B[1;32mfrom\u001B[0m \u001B[0merr\u001B[0m\u001B[1;33m\u001B[0m\u001B[0m\n\u001B[0m\u001B[0;32m   3364\u001B[0m \u001B[1;33m\u001B[0m\u001B[0m\n\u001B[0;32m   3365\u001B[0m         \u001B[1;32mif\u001B[0m \u001B[0mis_scalar\u001B[0m\u001B[1;33m(\u001B[0m\u001B[0mkey\u001B[0m\u001B[1;33m)\u001B[0m \u001B[1;32mand\u001B[0m \u001B[0misna\u001B[0m\u001B[1;33m(\u001B[0m\u001B[0mkey\u001B[0m\u001B[1;33m)\u001B[0m \u001B[1;32mand\u001B[0m \u001B[1;32mnot\u001B[0m \u001B[0mself\u001B[0m\u001B[1;33m.\u001B[0m\u001B[0mhasnans\u001B[0m\u001B[1;33m:\u001B[0m\u001B[1;33m\u001B[0m\u001B[0m\n",
      "\u001B[1;31mKeyError\u001B[0m: 'Timestamp'"
     ]
    }
   ],
   "execution_count": 8
  },
  {
   "metadata": {},
   "cell_type": "markdown",
   "source": "",
   "id": "999f98d383acb0f"
  },
  {
   "metadata": {
    "ExecuteTime": {
     "end_time": "2025-03-26T07:07:49.762087Z",
     "start_time": "2025-03-26T07:07:49.453937Z"
    }
   },
   "cell_type": "code",
   "source": [
    "# 假设需要使用的数据为除去 Label 和 Timestamp 列的数值特征\n",
    "# 根据你的数据结构选择需要的列，这里示例中我们去除 Label 与 Timestamp\n",
    "if 'Label' in df.columns:\n",
    "    df = df.drop(columns=['Label'])\n",
    "if 'Timestamp' in df.columns:\n",
    "    df = df.drop(columns=['Timestamp'])\n"
   ],
   "id": "5516a1be8f94a2a0",
   "outputs": [],
   "execution_count": 7
  },
  {
   "metadata": {},
   "cell_type": "markdown",
   "source": "",
   "id": "9fae3563807adf12"
  },
  {
   "metadata": {
    "ExecuteTime": {
     "end_time": "2025-03-26T07:08:29.776091Z",
     "start_time": "2025-03-26T07:08:29.595162Z"
    }
   },
   "cell_type": "code",
   "source": [
    "# 可选：将 DataFrame 转换为 numpy 数组，并确保数据类型为 float32（torch 默认 float 类型为 float32）\n",
    "data_np = df.to_numpy().astype(np.float32)\n",
    "\n",
    "# 转换为 torch tensor\n",
    "data_tensor = torch.tensor(data_np)\n",
    "\n",
    "# 查看 tensor 形状\n",
    "print(\"Tensor shape:\", data_tensor)\n"
   ],
   "id": "2f5ad471cdec11fe",
   "outputs": [
    {
     "name": "stdout",
     "output_type": "stream",
     "text": [
      "Tensor shape: tensor([ 5.4865e+04,  6.0000e+00,  3.0000e+00,  2.0000e+00,  0.0000e+00,\n",
      "         1.2000e+01,  0.0000e+00,  6.0000e+00,  6.0000e+00,  6.0000e+00,\n",
      "         0.0000e+00,  0.0000e+00,  0.0000e+00,  0.0000e+00,  0.0000e+00,\n",
      "         4.0000e+06,  6.6667e+05,  3.0000e+00,  0.0000e+00,  3.0000e+00,\n",
      "         3.0000e+00,  3.0000e+00,  3.0000e+00,  0.0000e+00,  3.0000e+00,\n",
      "         3.0000e+00,  0.0000e+00,  0.0000e+00,  0.0000e+00,  0.0000e+00,\n",
      "         0.0000e+00,  0.0000e+00,  4.0000e+01,  0.0000e+00,  6.6667e+05,\n",
      "         0.0000e+00,  6.0000e+00,  6.0000e+00,  6.0000e+00,  0.0000e+00,\n",
      "         0.0000e+00,  0.0000e+00,  0.0000e+00,  0.0000e+00,  0.0000e+00,\n",
      "         1.0000e+00,  0.0000e+00,  0.0000e+00,  0.0000e+00,  9.0000e+00,\n",
      "         6.0000e+00,  0.0000e+00,  2.0000e+00,  1.2000e+01,  0.0000e+00,\n",
      "         0.0000e+00,  3.3000e+01, -1.0000e+00,  1.0000e+00,  2.0000e+01,\n",
      "         0.0000e+00,  0.0000e+00,  0.0000e+00,  0.0000e+00,  0.0000e+00,\n",
      "         0.0000e+00,  0.0000e+00,  0.0000e+00])\n"
     ]
    }
   ],
   "execution_count": 9
  }
 ],
 "metadata": {
  "kernelspec": {
   "display_name": "Python 3",
   "language": "python",
   "name": "python3"
  },
  "language_info": {
   "codemirror_mode": {
    "name": "ipython",
    "version": 2
   },
   "file_extension": ".py",
   "mimetype": "text/x-python",
   "name": "python",
   "nbconvert_exporter": "python",
   "pygments_lexer": "ipython2",
   "version": "2.7.6"
  }
 },
 "nbformat": 4,
 "nbformat_minor": 5
}
